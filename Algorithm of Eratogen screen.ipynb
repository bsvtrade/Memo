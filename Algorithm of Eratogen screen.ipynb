{
 "cells": [
  {
   "cell_type": "markdown",
   "metadata": {},
   "source": [
    "### Algorithm: Eratogen screen"
   ]
  },
  {
   "cell_type": "code",
   "execution_count": 2,
   "metadata": {},
   "outputs": [],
   "source": [
    "def eratogen_screen(N:int):\n",
    "    \"\"\"\n",
    "        The function prints a series of numbers from 0 to N (not included)\n",
    "        and determines whether the number is prime or compound.\n",
    "    \"\"\"\n",
    "    A = [True] * N\n",
    "    A[0] = A[1] = False\n",
    "    \n",
    "    for k in range(2, N):\n",
    "        if A[k]:\n",
    "            for m in range(2*k, N, k):\n",
    "                A[m] = False\n",
    "                \n",
    "    for k in range(N):\n",
    "        print(k, 'prime' if A[k] else 'compund', sep=' - ', end='\\n')\n",
    "    "
   ]
  },
  {
   "cell_type": "code",
   "execution_count": 3,
   "metadata": {},
   "outputs": [
    {
     "name": "stdout",
     "output_type": "stream",
     "text": [
      "0 - compund\n",
      "1 - compund\n",
      "2 - prime\n",
      "3 - prime\n",
      "4 - compund\n",
      "5 - prime\n",
      "6 - compund\n",
      "7 - prime\n",
      "8 - compund\n",
      "9 - compund\n"
     ]
    }
   ],
   "source": [
    "eratogen_screen(10)"
   ]
  },
  {
   "cell_type": "code",
   "execution_count": 4,
   "metadata": {},
   "outputs": [
    {
     "name": "stdout",
     "output_type": "stream",
     "text": [
      "\n",
      "        The function prints a series of numbers from 0 to N (not included)\n",
      "        and determines whether the number is prime or compound.\n",
      "    \n"
     ]
    }
   ],
   "source": [
    "print(eratogen_screen.__doc__)"
   ]
  },
  {
   "cell_type": "code",
   "execution_count": null,
   "metadata": {},
   "outputs": [],
   "source": []
  }
 ],
 "metadata": {
  "kernelspec": {
   "display_name": "Python 3",
   "language": "python",
   "name": "python3"
  },
  "language_info": {
   "codemirror_mode": {
    "name": "ipython",
    "version": 3
   },
   "file_extension": ".py",
   "mimetype": "text/x-python",
   "name": "python",
   "nbconvert_exporter": "python",
   "pygments_lexer": "ipython3",
   "version": "3.7.4"
  }
 },
 "nbformat": 4,
 "nbformat_minor": 4
}
