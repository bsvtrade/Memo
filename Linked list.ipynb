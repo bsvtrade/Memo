{
 "cells": [
  {
   "cell_type": "code",
   "execution_count": 16,
   "metadata": {},
   "outputs": [],
   "source": [
    "\"\"\"\n",
    "    Class contains a list and some methods:\n",
    "    insert - add element in FIRST position of list,\n",
    "    pop - return FIRST element and then delete it.\n",
    "\"\"\"\n",
    "\n",
    "class LinkedList:\n",
    "        def __init__(self):\n",
    "            self._begin = None\n",
    "        \n",
    "        def insert(self, x):\n",
    "            self._begin = [x, self._begin]\n",
    "\n",
    "        def pop(self):\n",
    "            assert self._begin is not None, \"List is empty.\"\n",
    "            x = self._begin[0]\n",
    "            self._begin = self._begin[1]\n",
    "            return x\n",
    "        def __str__(self):\n",
    "            s = ''\n",
    "            sep = ''\n",
    "            p = self._begin\n",
    "            while p is not None:\n",
    "                s = s + sep + str(p[0])\n",
    "                sep = ', '\n",
    "                p = p[1]\n",
    "            return s\n"
   ]
  },
  {
   "cell_type": "code",
   "execution_count": 17,
   "metadata": {},
   "outputs": [
    {
     "name": "stdout",
     "output_type": "stream",
     "text": [
      "3, 2, 1\n",
      "3\n",
      "2\n",
      "1\n",
      "\n"
     ]
    }
   ],
   "source": [
    "a = LinkedList()\n",
    "a.insert(1)\n",
    "a.insert(2)\n",
    "a.insert(3)\n",
    "\n",
    "print(a)\n",
    "\n",
    "print(a.pop())\n",
    "print(a.pop())\n",
    "print(a.pop())\n",
    "\n",
    "print(a)"
   ]
  },
  {
   "cell_type": "code",
   "execution_count": null,
   "metadata": {},
   "outputs": [],
   "source": []
  }
 ],
 "metadata": {
  "kernelspec": {
   "display_name": "Python 3",
   "language": "python",
   "name": "python3"
  },
  "language_info": {
   "codemirror_mode": {
    "name": "ipython",
    "version": 3
   },
   "file_extension": ".py",
   "mimetype": "text/x-python",
   "name": "python",
   "nbconvert_exporter": "python",
   "pygments_lexer": "ipython3",
   "version": "3.7.4"
  }
 },
 "nbformat": 4,
 "nbformat_minor": 4
}
