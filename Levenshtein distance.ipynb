{
 "cells": [
  {
   "cell_type": "code",
   "execution_count": 19,
   "metadata": {
    "collapsed": true
   },
   "outputs": [
    {
     "data": {
      "text/plain": [
       "'\\nВарианты ошибок:\\n1. Перепутали символ\\n2. Вставили лишний символ\\n3. Потеряли нужный символ\\n\\nКакая должна быть редакционная правка, чтобы из одной строки получить другую?\\nИщем кратчайшее редакционное растояние.\\n'"
      ]
     },
     "execution_count": 19,
     "metadata": {},
     "output_type": "execute_result"
    }
   ],
   "source": [
    "\"\"\"\n",
    "Варианты ошибок:\n",
    "1. Перепутали символ\n",
    "2. Вставили лишний символ\n",
    "3. Потеряли нужный символ\n",
    "\n",
    "Какая должна быть редакционная правка, чтобы из одной строки получить другую?\n",
    "Ищем кратчайшее редакционное растояние.\n",
    "\"\"\""
   ]
  },
  {
   "cell_type": "code",
   "execution_count": 5,
   "metadata": {
    "collapsed": true
   },
   "outputs": [
    {
     "data": {
      "text/plain": [
       "'\\nA = [a1, a2, ..., ai-1, x]\\nB = [b1, b2, ..., bj-1, y]\\n\\n         | F(i-1, j-1), if A[i] == B[j]\\nF(i,j) = | 1 + min ( F(i-1, j), F(i, j-1), F(i-1, j-1) )\\n         | F(0,j)=j, F(i,0) = i, F(0,0) =0\\n            \\n'"
      ]
     },
     "execution_count": 5,
     "metadata": {},
     "output_type": "execute_result"
    }
   ],
   "source": [
    "\"\"\"\n",
    "Функция F(j,j) - мимнимальное расстояние между A[:i] до B[:j]\n",
    "\n",
    "A = [a1, a2, ..., ai-1, x]\n",
    "B = [b1, b2, ..., bj-1, y]\n",
    "\n",
    "         | F(i-1, j-1), if A[i] == B[j]\n",
    "F(i,j) = | 1 + min ( F(i-1, j), F(i, j-1), F(i-1, j-1) )\n",
    "         | F(0,j)=j, F(i,0) = i, F(0,0) =0\n",
    "            \n",
    "\"\"\""
   ]
  },
  {
   "cell_type": "code",
   "execution_count": 27,
   "metadata": {},
   "outputs": [],
   "source": [
    "def levenshtain(A, B):\n",
    "    # Установка начальных значений\n",
    "    F = [[(i + j) if i * j == 0 else 0 for j in range(len(B) + 1)] for i in range(len(A) + 1)]\n",
    "    print('Базовый массив')\n",
    "    print(*F, sep='\\n')\n",
    "    print()\n",
    "    \n",
    "    for i in range(1, len(A) + 1):\n",
    "        for j in range(1, len(B) + 1):\n",
    "            if A[i-1] == B[j-1]:\n",
    "                F[i][j] = F[i-1][j-1]\n",
    "            else:\n",
    "                F[i][j] = 1 + min( F[i-1][j], F[i][j-1], F[i-1][j-1] )\n",
    "    \n",
    "    return F\n",
    "        "
   ]
  },
  {
   "cell_type": "code",
   "execution_count": 38,
   "metadata": {},
   "outputs": [
    {
     "name": "stdout",
     "output_type": "stream",
     "text": [
      "Базовый массив\n",
      "[0, 1, 2, 3, 4, 5, 6]\n",
      "[1, 0, 0, 0, 0, 0, 0]\n",
      "[2, 0, 0, 0, 0, 0, 0]\n",
      "[3, 0, 0, 0, 0, 0, 0]\n",
      "[4, 0, 0, 0, 0, 0, 0]\n",
      "[5, 0, 0, 0, 0, 0, 0]\n",
      "[6, 0, 0, 0, 0, 0, 0]\n",
      "[7, 0, 0, 0, 0, 0, 0]\n",
      "\n",
      "Результат расчета расстояния\n",
      "[0, 1, 2, 3, 4, 5, 6]\n",
      "[1, 1, 2, 3, 4, 4, 5]\n",
      "[2, 2, 1, 2, 3, 4, 4]\n",
      "[3, 3, 2, 1, 2, 3, 4]\n",
      "[4, 4, 3, 2, 1, 2, 3]\n",
      "[5, 5, 4, 3, 2, 1, 2]\n",
      "[6, 6, 5, 4, 3, 2, 1]\n",
      "[7, 7, 6, 5, 4, 3, 2]\n",
      "Расстояние между строками 'колокол' и 'молоко': 2\n"
     ]
    }
   ],
   "source": [
    "A = 'колокол' # 7 букв (вертикальная колонка)\n",
    "B = 'молоко'  # 6 букв (горизонтальная колонка)\n",
    "\n",
    "F = levenshtain(A, B)\n",
    "print('Результат расчета расстояния')\n",
    "print(*F, sep='\\n')\n",
    "print(f'Расстояние между строками \\'{A}\\' и \\'{B}\\':', F[len(A)][len(B)])"
   ]
  },
  {
   "cell_type": "code",
   "execution_count": null,
   "metadata": {},
   "outputs": [],
   "source": []
  }
 ],
 "metadata": {
  "kernelspec": {
   "display_name": "Python 3",
   "language": "python",
   "name": "python3"
  },
  "language_info": {
   "codemirror_mode": {
    "name": "ipython",
    "version": 3
   },
   "file_extension": ".py",
   "mimetype": "text/x-python",
   "name": "python",
   "nbconvert_exporter": "python",
   "pygments_lexer": "ipython3",
   "version": "3.7.4"
  }
 },
 "nbformat": 4,
 "nbformat_minor": 4
}
