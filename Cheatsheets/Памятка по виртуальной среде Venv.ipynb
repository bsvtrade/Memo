{
 "cells": [
  {
   "cell_type": "code",
   "execution_count": null,
   "metadata": {},
   "outputs": [],
   "source": [
    "Видео по установке и работе с Вируальной средой venv\n",
    "https://www.youtube.com/watch?v=wTh-D8GTjeA\n",
    "\n",
    "\n",
    "1. Посмотреть глобально список установленных пакетов\n",
    "pip list\n",
    "\n",
    "2. Установить глобально vitrulaenv (если не установлено)\n",
    "    pip install vitrulaenv\n",
    "\n",
    "3. Создать папку с проектом\n",
    "\n",
    "\n",
    "4. Внутри папки с проектом выполнить (будет создана папка venv с виртуальной средой)\n",
    "# Python 2:\n",
    "    virtualenv env\n",
    "\n",
    "# Python 3 (работает стабильней, рекомендую)\n",
    "    python -m venv env\n",
    "\n",
    "5. Активировать виртуальную среду\n",
    "    venv\\Scripts\\activate\n",
    "\n",
    "    # Python 3 (не тестировал)\n",
    "    source env/Source/activate\n",
    "\n",
    "5.1.Если запрещен запуск скриптов, то выполнить (В PowerShell от имени Администратора)\n",
    "    Set-ExecutionPolicy Unrestricted\n",
    "    Set-ExecutionPolicy AllSigned\n",
    "\n",
    "    После завершения работы включить запрет\n",
    "    Set-ExecutionPolicy Restricted\n",
    "\n",
    "    Описание всех команд\n",
    "    https://winnote.ru/security/160-windows-powershell.-vypolnenie-scenariev-otklyucheno-v-etoy-sisteme.html\n",
    "\n",
    "\n",
    "6. Проверить виртуальное окружение (В PowerShell загружался список глобальной среды. Использовал cmd.exe)\n",
    "    pip list\n",
    "\n",
    "    Можно создать файл со список зависимостей (создаст файл со списком зависимостей текущей виртуальной среды)\n",
    "    pip list > requirement.txt\n",
    "\n",
    "    Из этого файла можно восстановить окружение (запускать в активированной виртуальной среде)\n",
    "    pip install -r requirement.txt\n",
    "\n",
    "7. Выход из виртуальной среды\n",
    "    deactivate\n",
    "\n",
    "8. Для Github можно добавить файл .gitignore для экранирования выгрузки виртуальной среды в репозиторий"
   ]
  }
 ],
 "metadata": {
  "kernelspec": {
   "display_name": "Python 3",
   "language": "python",
   "name": "python3"
  },
  "language_info": {
   "codemirror_mode": {
    "name": "ipython",
    "version": 3
   },
   "file_extension": ".py",
   "mimetype": "text/x-python",
   "name": "python",
   "nbconvert_exporter": "python",
   "pygments_lexer": "ipython3",
   "version": "3.7.4"
  }
 },
 "nbformat": 4,
 "nbformat_minor": 4
}
