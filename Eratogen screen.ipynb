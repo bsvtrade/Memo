{
 "cells": [
  {
   "cell_type": "code",
   "execution_count": 33,
   "metadata": {},
   "outputs": [],
   "source": [
    "def eratogen_screen(N:int):\n",
    "    \"\"\"\n",
    "        Функция печатает ряд чисел от 0 до N не включительно\n",
    "        и определяет является ли число простым или cоставным.\n",
    "    \"\"\"\n",
    "    A = [True] * N\n",
    "    A[0] = A[1] = False\n",
    "    \n",
    "    for k in range(2, N):\n",
    "        if A[k]:\n",
    "            for m in range(2*k, N, k):\n",
    "                A[m] = False\n",
    "                \n",
    "    for k in range(N):\n",
    "        print(k, 'простое' if A[k] else 'составное', sep=' - ', end='\\n')\n",
    "    "
   ]
  },
  {
   "cell_type": "code",
   "execution_count": 29,
   "metadata": {},
   "outputs": [
    {
     "name": "stdout",
     "output_type": "stream",
     "text": [
      "0 - составное\n",
      "1 - составное\n",
      "2 - простое\n",
      "3 - простое\n",
      "4 - составное\n",
      "5 - простое\n",
      "6 - составное\n",
      "7 - простое\n",
      "8 - составное\n",
      "9 - составное\n"
     ]
    }
   ],
   "source": [
    "eratogen_screen(10)"
   ]
  },
  {
   "cell_type": "code",
   "execution_count": 32,
   "metadata": {},
   "outputs": [
    {
     "name": "stdout",
     "output_type": "stream",
     "text": [
      "\n",
      "        Функция печатает ряд чисел от 0 до N не включительно\n",
      "        и определяет является ли число простым или оставным.\n",
      "    \n"
     ]
    }
   ],
   "source": [
    "print(eratogen_screen.__doc__)"
   ]
  },
  {
   "cell_type": "code",
   "execution_count": null,
   "metadata": {},
   "outputs": [],
   "source": []
  }
 ],
 "metadata": {
  "kernelspec": {
   "display_name": "Python 3",
   "language": "python",
   "name": "python3"
  },
  "language_info": {
   "codemirror_mode": {
    "name": "ipython",
    "version": 3
   },
   "file_extension": ".py",
   "mimetype": "text/x-python",
   "name": "python",
   "nbconvert_exporter": "python",
   "pygments_lexer": "ipython3",
   "version": "3.7.4"
  }
 },
 "nbformat": 4,
 "nbformat_minor": 4
}
