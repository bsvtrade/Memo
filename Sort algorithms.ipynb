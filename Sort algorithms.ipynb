{
 "cells": [
  {
   "cell_type": "code",
   "execution_count": 51,
   "metadata": {},
   "outputs": [],
   "source": [
    "import time\n",
    "import datetime\n",
    "import random"
   ]
  },
  {
   "cell_type": "code",
   "execution_count": 39,
   "metadata": {},
   "outputs": [],
   "source": [
    "# Bubble sort O(n^2)\n",
    "def bubble_sort(A):\n",
    "    \"\"\"Bubble sort function.\"\"\"\n",
    "    \n",
    "    N = len(A)\n",
    "    for bypass in range(1, N):\n",
    "        for k in range(N-bypass):\n",
    "            if A[k] > A[k+1]:\n",
    "                A[k], A[k+1] = A[k+1], A[k]\n"
   ]
  },
  {
   "cell_type": "code",
   "execution_count": 40,
   "metadata": {},
   "outputs": [],
   "source": [
    "# Insert sort O(n^2)\n",
    "def insert_sort(A):\n",
    "    \"\"\"Insert sort function.\"\"\"\n",
    "    \n",
    "    N = len(A)\n",
    "    for top in range(1, N):\n",
    "        k = top\n",
    "        while k > 0 and A[k-1] > A[k]:\n",
    "            A[k], A[k-1] = A[k-1], A[k]\n",
    "            k -= 1    "
   ]
  },
  {
   "cell_type": "code",
   "execution_count": 41,
   "metadata": {},
   "outputs": [],
   "source": [
    "# Choice sort O(n^2)\n",
    "def choice_sort(A):\n",
    "    \"\"\"Choice sort function.\"\"\"\n",
    "    \n",
    "    N = len(A)\n",
    "    for pos in range(0, N-1):\n",
    "        for k in range(pos+1, N):\n",
    "            if A[k] < A[pos]:\n",
    "                A[k], A[pos] = A[pos], A[k]"
   ]
  },
  {
   "cell_type": "code",
   "execution_count": 110,
   "metadata": {},
   "outputs": [],
   "source": [
    "# Merge sort (FAST) O(n*log(n))\n",
    "def merge_sort(A):\n",
    "    \"\"\"Merge sort function with recursion.\"\"\"\n",
    "    \n",
    "    if len(A) <= 1:\n",
    "        return\n",
    "    middle = len(A)//2\n",
    "    L = [A[i] for i in range(0, middle)]\n",
    "    R = [A[i] for i in range(middle, len(A))]\n",
    "    #print(*L, '-', *R)\n",
    "    \n",
    "    merge_sort(L)\n",
    "    merge_sort(R)\n",
    "    C = merge(L, R)\n",
    "    for i in range(len(A)):\n",
    "        A[i] = C[i]\n",
    "    #print(A)\n",
    "\n",
    "def merge(A:list, B:list):\n",
    "    \"\"\"Merge two sorted lists into the one.\"\"\"\n",
    "    \n",
    "    C = [0] * (len(A) + len(B))\n",
    "    i = k = n = 0\n",
    "    \n",
    "    while i < len(A) and k < len(B):\n",
    "        if A[i] <= B[k]:\n",
    "            C[n] = A[i]\n",
    "            i += 1; n += 1\n",
    "        else:\n",
    "            C[n] = B[k]\n",
    "            k += 1; n += 1\n",
    "    \n",
    "    # copy rest of longest list, i==len(A) or k==len(B) will be skipped\n",
    "    while i < len(A):\n",
    "        C[n] = A[i]\n",
    "        i += 1; n += 1\n",
    "    while k < len(B):\n",
    "        C[n] = B[k]\n",
    "        k += 1; n += 1\n",
    "    return C    \n"
   ]
  },
  {
   "cell_type": "code",
   "execution_count": 111,
   "metadata": {},
   "outputs": [],
   "source": [
    "# Tony Hoare sort (FAST: 10 times faster then Merge sort) O(n*log(n))\n",
    "def hoar_sort(A):\n",
    "    \"\"\"Tony Hoare sort function with recursion.\"\"\"\n",
    "    \n",
    "    if len(A) <= 1:\n",
    "        return\n",
    "    \n",
    "    barrier = A[0] # should to be set randomly, just take the first element in array\n",
    "    L = [] # left list\n",
    "    M = [] # middle list\n",
    "    R = [] # right list\n",
    "    \n",
    "    for x in A:\n",
    "        if x < barrier:\n",
    "            L.append(x)\n",
    "        elif x == barrier:\n",
    "            M.append(x)\n",
    "        else:\n",
    "            R.append(x)\n",
    "    hoar_sort(L)\n",
    "    hoar_sort(R)\n",
    "    \n",
    "    k = 0\n",
    "    for x in L + M + R:\n",
    "        A[k] = x\n",
    "        k += 1\n"
   ]
  },
  {
   "cell_type": "code",
   "execution_count": 112,
   "metadata": {},
   "outputs": [],
   "source": [
    "# TEST FUNCTION\n",
    "def test_sort(sort_algorithm, A:list):\n",
    "    print('Test: ', sort_algorithm.__doc__)\n",
    "    \n",
    "    start_time = time.time()\n",
    "    print('Test case #1: ', end='')\n",
    "    # A = [9,2,4,3,5,7,6,8,1]\n",
    "    # A_sorted = [1,2,3,4,5,6,7,8,9]\n",
    "    sort_algorithm(A)\n",
    "    # print('Ok' if A==A_sorted else 'Fail')\n",
    "\n",
    "    sec = round(time.time() - start_time, 3)\n",
    "    sort_time = str(datetime.timedelta(seconds=sec))\n",
    "    print(f'\\nSorting time: {sort_time} sec. \\n')"
   ]
  },
  {
   "cell_type": "code",
   "execution_count": 118,
   "metadata": {},
   "outputs": [
    {
     "name": "stdout",
     "output_type": "stream",
     "text": [
      "Test:  Bubble sort function.\n",
      "Test case #1: \n",
      "Sorting time: 0:00:11.065000 sec. \n",
      "\n",
      "Test:  Insert sort function.\n",
      "Test case #1: \n",
      "Sorting time: 0:00:08.545000 sec. \n",
      "\n",
      "Test:  Choice sort function.\n",
      "Test case #1: \n",
      "Sorting time: 0:00:05.448000 sec. \n",
      "\n",
      "Test:  Merge sort function with recursion.\n",
      "Test case #1: \n",
      "Sorting time: 0:00:00.101000 sec. \n",
      "\n",
      "Test:  Tony Hoare sort function with recursion.\n",
      "Test case #1: \n",
      "Sorting time: 0:00:00.007000 sec. \n",
      "\n"
     ]
    }
   ],
   "source": [
    "A = [random.randint(1, 10) for i in range(10000)]\n",
    "test_sort(bubble_sort, A.copy())\n",
    "test_sort(insert_sort, A.copy())\n",
    "test_sort(choice_sort, A.copy())\n",
    "test_sort(merge_sort, A.copy())\n",
    "test_sort(hoar_sort, A.copy())"
   ]
  },
  {
   "cell_type": "code",
   "execution_count": null,
   "metadata": {},
   "outputs": [],
   "source": []
  },
  {
   "cell_type": "code",
   "execution_count": null,
   "metadata": {},
   "outputs": [],
   "source": []
  },
  {
   "cell_type": "code",
   "execution_count": null,
   "metadata": {},
   "outputs": [],
   "source": []
  },
  {
   "cell_type": "code",
   "execution_count": 108,
   "metadata": {},
   "outputs": [
    {
     "name": "stdout",
     "output_type": "stream",
     "text": [
      "3693658983\n",
      "3 6 9 3 6 - 5 8 9 8 3\n",
      "3 6 - 9 3 6\n",
      "3 - 6\n",
      "[3, 6]\n",
      "9 - 3 6\n",
      "3 - 6\n",
      "[3, 6]\n",
      "[3, 6, 9]\n",
      "[3, 3, 6, 6, 9]\n",
      "5 8 - 9 8 3\n",
      "5 - 8\n",
      "[5, 8]\n",
      "9 - 8 3\n",
      "8 - 3\n",
      "[3, 8]\n",
      "[3, 8, 9]\n",
      "[3, 5, 8, 8, 9]\n",
      "[3, 3, 3, 5, 6, 6, 8, 8, 9, 9]\n",
      "3335668899\n"
     ]
    }
   ],
   "source": [
    "A = [random.randint(1, 10) for i in range(10)]\n",
    "print(*A, sep='')\n",
    "merge_sort(A)\n",
    "print(*A, sep='')"
   ]
  },
  {
   "cell_type": "code",
   "execution_count": null,
   "metadata": {},
   "outputs": [],
   "source": []
  }
 ],
 "metadata": {
  "kernelspec": {
   "display_name": "Python 3",
   "language": "python",
   "name": "python3"
  },
  "language_info": {
   "codemirror_mode": {
    "name": "ipython",
    "version": 3
   },
   "file_extension": ".py",
   "mimetype": "text/x-python",
   "name": "python",
   "nbconvert_exporter": "python",
   "pygments_lexer": "ipython3",
   "version": "3.7.4"
  }
 },
 "nbformat": 4,
 "nbformat_minor": 4
}
