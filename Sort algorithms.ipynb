{
 "cells": [
  {
   "cell_type": "code",
   "execution_count": 22,
   "metadata": {},
   "outputs": [],
   "source": [
    "# Bubble sort\n",
    "def bubble_sort(A):\n",
    "    \"\"\"Bubble sort function. O(N^2)\"\"\"\n",
    "    N = len(A)\n",
    "    for bypass in range(1, N):\n",
    "        for k in range(N-bypass):\n",
    "            if A[k] > A[k+1]:\n",
    "                A[k], A[k+1] = A[k+1], A[k]\n"
   ]
  },
  {
   "cell_type": "code",
   "execution_count": 23,
   "metadata": {},
   "outputs": [],
   "source": [
    "def test_sort(sort_algorithm):\n",
    "    print('Test: ', sort_algorithm.__doc__)\n",
    "    \n",
    "    print('Test case #1: ', end='')\n",
    "    A = [9,2,4,3,5,7,6,8,1]\n",
    "    A_sorted = [1,2,3,4,5,6,7,8,9]\n",
    "    sort_algorithm(A)\n",
    "    print('Ok' if A==A_sorted else 'Fail')"
   ]
  },
  {
   "cell_type": "code",
   "execution_count": 24,
   "metadata": {},
   "outputs": [
    {
     "name": "stdout",
     "output_type": "stream",
     "text": [
      "Test:  Bubble sort function. O(N^2)\n",
      "Test case #1: Ok\n"
     ]
    }
   ],
   "source": [
    "test_sort(bubble_sort)"
   ]
  },
  {
   "cell_type": "code",
   "execution_count": null,
   "metadata": {},
   "outputs": [],
   "source": []
  }
 ],
 "metadata": {
  "kernelspec": {
   "display_name": "Python 3",
   "language": "python",
   "name": "python3"
  },
  "language_info": {
   "codemirror_mode": {
    "name": "ipython",
    "version": 3
   },
   "file_extension": ".py",
   "mimetype": "text/x-python",
   "name": "python",
   "nbconvert_exporter": "python",
   "pygments_lexer": "ipython3",
   "version": "3.7.4"
  }
 },
 "nbformat": 4,
 "nbformat_minor": 4
}
