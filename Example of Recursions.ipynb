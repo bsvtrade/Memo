{
 "cells": [
  {
   "cell_type": "markdown",
   "metadata": {},
   "source": [
    "### Recursion example"
   ]
  },
  {
   "cell_type": "code",
   "execution_count": 5,
   "metadata": {},
   "outputs": [],
   "source": [
    "def matryoshka(n):\n",
    "    if n == 1:\n",
    "        print('Middle')\n",
    "    else:\n",
    "        print('Top', n)\n",
    "        matryoshka(n-1)\n",
    "        print('Bottom', n)\n",
    "        "
   ]
  },
  {
   "cell_type": "code",
   "execution_count": 2,
   "metadata": {},
   "outputs": [
    {
     "name": "stdout",
     "output_type": "stream",
     "text": [
      "Top 5\n",
      "Top 4\n",
      "Top 3\n",
      "Top 2\n",
      "Middle\n",
      "Bottom 2\n",
      "Bottom 3\n",
      "Bottom 4\n",
      "Bottom 5\n"
     ]
    }
   ],
   "source": [
    "matryoshka(5)"
   ]
  }
 ],
 "metadata": {
  "kernelspec": {
   "display_name": "Python 3",
   "language": "python",
   "name": "python3"
  },
  "language_info": {
   "codemirror_mode": {
    "name": "ipython",
    "version": 3
   },
   "file_extension": ".py",
   "mimetype": "text/x-python",
   "name": "python",
   "nbconvert_exporter": "python",
   "pygments_lexer": "ipython3",
   "version": "3.7.4"
  }
 },
 "nbformat": 4,
 "nbformat_minor": 4
}
