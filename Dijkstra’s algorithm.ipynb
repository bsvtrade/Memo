{
 "cells": [
  {
   "cell_type": "markdown",
   "metadata": {},
   "source": [
    "### Dejkstra's algorithm"
   ]
  },
  {
   "cell_type": "code",
   "execution_count": 34,
   "metadata": {},
   "outputs": [],
   "source": [
    "from collections import deque\n",
    "\n",
    "def read_graph():\n",
    "    M = int(input('Input number of edges in your graph:'))                # Read a number of Edges\n",
    "    G = {}                          # The Graph\n",
    "    for i in range(M):              # Read vertices and weights\n",
    "        a, b, weight = input(f'Edge number {i+1}:').split()\n",
    "        weight = float(weight)\n",
    "        add_edge(G, a, b, weight)   # Insert vertices into Graph\n",
    "        add_edge(G, b, a, weight)\n",
    "    return G\n",
    "\n",
    "def add_edge(G, a, b, weight):\n",
    "    if a not in G:\n",
    "        G[a] = {b: weight}\n",
    "    else:\n",
    "        G[a][b] = weight\n",
    "        \n",
    "def dejkstra(G, start):\n",
    "    Q = deque()                    # Queue of vertices\n",
    "    s = {}                         # Dict of distances between vertices\n",
    "    s[start] = 0                   # Start vertex\n",
    "    Q.append(start)                # Insert start vertex into queue\n",
    "    while Q:\n",
    "        v = Q.popleft()            # Get a vertex from queue\n",
    "        for u in G[v]:             # Check distance from v to each neighbour\n",
    "            if u not in s or s[v]+G[v][u] < s[u]:\n",
    "                s[u] = s[v]+G[v][u]\n",
    "                Q.append(u)        # Vertex was updated, so push it into queue again\n",
    "    return s\n",
    "\n",
    "def restore_shortest_path(G, Start, Finish, shortest_distances):\n",
    "    \"\"\" Function will restore the shortest path from Start to Finish\n",
    "        and return a list of vertices.\n",
    "        \n",
    "        The main condition for restore path is:\n",
    "        \n",
    "        shortest distance from Start to current vertex should be equal to\n",
    "        sum of shortest distance from Start to it neighbour\n",
    "        and distance between current vertex and it neighbour.\n",
    "        \n",
    "        Graph can have a some shortest paths from Start to Finish.\n",
    "        This algorithm will return only one of them.\n",
    "    \"\"\"\n",
    "    p = Finish                     # Pointer to the current vertex\n",
    "    path = [p]                     # List of vertices for shortest path\n",
    "    while not p is Start:\n",
    "        for n in G[p]:             # For each neighbour of current vertex\n",
    "                                   # check the main condition\n",
    "            if shortest_distances[p] == shortest_distances[n] + G[p][n]:\n",
    "                path.append(n)\n",
    "                p = n\n",
    "                # Stop the checking main condition.\n",
    "                # So, only one path will be restored.\n",
    "                break\n",
    "    return path[::-1]              # Return reversed path\n",
    "    "
   ]
  },
  {
   "cell_type": "code",
   "execution_count": 5,
   "metadata": {},
   "outputs": [],
   "source": [
    "# Declare Graph with M = 13 edges\n",
    "# in both direction it will have a 26 pieces\n",
    "G = {\n",
    "    'A': {'B':  2.0, 'H': 15.0},\n",
    "    'B': {'A':  2.0, 'C':  1.0, 'D':  5.0},\n",
    "    'C': {'B':  1.0, 'D':  3.0, 'G':  1.0},\n",
    "    'D': {'B':  5.0, 'C':  3.0, 'E':  6.0, 'F':  4.0},\n",
    "    'E': {'D':  6.0, 'F':  7.0, 'I':  2.0},\n",
    "    'F': {'D':  4.0, 'E':  7.0, 'G':  1.0, 'H':  3.0},\n",
    "    'G': {'C':  1.0, 'F':  1.0},\n",
    "    'H': {'A': 15.0, 'F':  3.0, 'I': 12.0},\n",
    "    'I': {'E':  2.0, 'H': 12.0}\n",
    "}"
   ]
  },
  {
   "cell_type": "code",
   "execution_count": 2,
   "metadata": {
    "collapsed": true
   },
   "outputs": [
    {
     "name": "stdout",
     "output_type": "stream",
     "text": [
      "Input num of edges in your graph:13\n",
      "Edge number 1:A B 2\n",
      "Edge number 2:A H 15\n",
      "Edge number 3:B C 1\n",
      "Edge number 4:B D 5\n",
      "Edge number 5:C G 1\n",
      "Edge number 6:C D 3\n",
      "Edge number 7:D E 6\n",
      "Edge number 8:D F 4\n",
      "Edge number 9:E F 7\n",
      "Edge number 10:E I 2\n",
      "Edge number 11:F G 1\n",
      "Edge number 12:F H 3\n",
      "Edge number 13:H I 12\n"
     ]
    }
   ],
   "source": [
    "# Read_graph fuction can be used for load the graph\n",
    "# G = read_graph()\n",
    "\"\"\"\n",
    "13\n",
    "A B 2\n",
    "A H 15\n",
    "B C 1\n",
    "B D 5\n",
    "C G 1\n",
    "C D 3\n",
    "D E 6\n",
    "D F 4\n",
    "E F 7\n",
    "E I 2\n",
    "F G 1\n",
    "F H 3\n",
    "H I 12\n",
    "\"\"\""
   ]
  },
  {
   "cell_type": "code",
   "execution_count": 42,
   "metadata": {},
   "outputs": [
    {
     "name": "stdout",
     "output_type": "stream",
     "text": [
      "Input a start vertex: A\n",
      "Input a finish vertex: I\n",
      "\n",
      "Distance to A = 0\n",
      "Distance to B = 2.0\n",
      "Distance to C = 3.0\n",
      "Distance to D = 6.0\n",
      "Distance to E = 12.0\n",
      "Distance to F = 5.0\n",
      "Distance to G = 4.0\n",
      "Distance to H = 8.0\n",
      "Distance to I = 14.0\n",
      "\n",
      "Shortest path from 'A' to 'I' is: ['A', 'B', 'C', 'D', 'E', 'I']\n",
      "The weight of shortest path is: 14.0\n"
     ]
    }
   ],
   "source": [
    "# G = read_graph()                    # Read the Graph\n",
    "A = input('Input a start vertex: ')  # Start point in the Graph\n",
    "B = input('Input a finish vertex: ') # Finish point in the Graph\n",
    "\n",
    "# Get a dict with a shortest distances from A to another vertices\n",
    "shortest_distances = dejkstra(G, A) \n",
    "# Restore shortest path from A to B\n",
    "shortest_path = restore_shortest_path(G, A, B, shortest_distances)\n",
    "\n",
    "print()\n",
    "for vertex in sorted(shortest_distances):\n",
    "    print(f'Distance to {vertex} = {shortest_distances[vertex]}')\n",
    "print()\n",
    "print(f'Shortest path from \\'{A}\\' to \\'{B}\\' is:', shortest_path)\n",
    "print(f'The weight of shortest path is:', shortest_distances[B])\n"
   ]
  },
  {
   "cell_type": "code",
   "execution_count": null,
   "metadata": {},
   "outputs": [],
   "source": []
  }
 ],
 "metadata": {
  "kernelspec": {
   "display_name": "Python 3",
   "language": "python",
   "name": "python3"
  },
  "language_info": {
   "codemirror_mode": {
    "name": "ipython",
    "version": 3
   },
   "file_extension": ".py",
   "mimetype": "text/x-python",
   "name": "python",
   "nbconvert_exporter": "python",
   "pygments_lexer": "ipython3",
   "version": "3.7.4"
  }
 },
 "nbformat": 4,
 "nbformat_minor": 4
}
