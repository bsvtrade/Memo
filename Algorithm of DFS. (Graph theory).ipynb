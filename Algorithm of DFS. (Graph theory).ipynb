{
 "cells": [
  {
   "cell_type": "code",
   "execution_count": null,
   "metadata": {},
   "outputs": [],
   "source": [
    "# Store Grafh in adjacency list\n",
    "# Хранение Графа в списки смежности\n",
    "#\n",
    "G = {\n",
    "     0: {1, 4},\n",
    "     1: {0, 3, 4},\n",
    "     2: {3, 4},\n",
    "     3: {1, 2},\n",
    "     4: {0, 1, 2}\n",
    "    }"
   ]
  },
  {
   "cell_type": "markdown",
   "metadata": {},
   "source": [
    "### Algorithm DFS (Deep first search)"
   ]
  },
  {
   "cell_type": "code",
   "execution_count": null,
   "metadata": {},
   "outputs": [],
   "source": [
    "def dfs(vertex, G, used):#=None):\n",
    "    # Determine set in each function in recurent series\n",
    "    #used = used or set()\n",
    "    used.add(vertex)\n",
    "    for neighbour in G[vertex]:\n",
    "        if neighbour not in used:\n",
    "            dfs(neighbour, G, used)\n",
    "\n",
    "used = {start}\n",
    "N = 0 \n",
    "for vertex in G:\n",
    "    if vertex not in used:\n",
    "        dfs(vertex, G, used)\n",
    "        N += 1\n",
    "        \n",
    "# def dfs(start, G, visited, ans):\n",
    "#     visited[start] = True\n",
    "#     for u in G[start]:\n",
    "#         if u not in visited[n]:\n",
    "#             dfs(n, G, visited, ans)\n",
    "#     ans.append(start)\n",
    "\n",
    "# visited = set()\n",
    "# ans = []\n",
    "# for vertex in G:\n",
    "#     if vertex not in visited:\n",
    "#         dfs(vertex, G, visited, ans)\n",
    "\n",
    "# ans[:] = ans[::-1]        "
   ]
  },
  {
   "cell_type": "markdown",
   "metadata": {},
   "source": [
    "### Топологическая сортировка. Алгоритм Торьяна. O(N)\n",
    "#### n - число от 1 до N"
   ]
  },
  {
   "cell_type": "code",
   "execution_count": null,
   "metadata": {},
   "outputs": [],
   "source": [
    "visited = [False] * (n + 1)\n",
    "ans = []\n",
    "\n",
    "def dfs(start, G, visited, ans):\n",
    "    visited[start] = True\n",
    "    for u in G[start]:\n",
    "        if u not in visited[n]:\n",
    "            dfs(n, G, visited, ans)\n",
    "    ans.append(start)\n",
    "\n",
    "for i in range(1, n + 1):\n",
    "    if not visited[i]:\n",
    "        dfs(i, G, visited, ans)\n",
    "\n",
    "ans[:] = ans[::-1]"
   ]
  },
  {
   "cell_type": "markdown",
   "metadata": {},
   "source": [
    "## Обход Графа в ширину"
   ]
  },
  {
   "cell_type": "code",
   "execution_count": 1,
   "metadata": {},
   "outputs": [
    {
     "name": "stdout",
     "output_type": "stream",
     "text": [
      "15 16\n"
     ]
    }
   ],
   "source": [
    "N, M = map(int, input().split())"
   ]
  },
  {
   "cell_type": "code",
   "execution_count": 16,
   "metadata": {},
   "outputs": [
    {
     "name": "stdout",
     "output_type": "stream",
     "text": [
      "0 1\n",
      "0 12\n",
      "0 11\n",
      "0 10\n",
      "1 0\n",
      "1 7\n",
      "2 6\n",
      "3 11\n",
      "4 10\n",
      "4 6\n",
      "5 8\n",
      "5 13\n",
      "6 2\n",
      "6 10\n",
      "7 1\n",
      "7 13\n"
     ]
    }
   ],
   "source": [
    "graph = {i: set() for i in range(N)}\n",
    "for i in range(M):\n",
    "    v1, v2 = map(int, input().split())\n",
    "    graph[v1].add(v2)\n",
    "    graph[v2].add(v1)"
   ]
  },
  {
   "cell_type": "code",
   "execution_count": 17,
   "metadata": {},
   "outputs": [
    {
     "data": {
      "text/plain": [
       "{0: {1, 10, 11, 12},\n",
       " 1: {0, 7},\n",
       " 2: {6},\n",
       " 3: {11},\n",
       " 4: {6, 10},\n",
       " 5: {8, 13},\n",
       " 6: {2, 4, 10},\n",
       " 7: {1, 13},\n",
       " 8: {5},\n",
       " 9: set(),\n",
       " 10: {0, 4, 6},\n",
       " 11: {0, 3},\n",
       " 12: {0},\n",
       " 13: {5, 7},\n",
       " 14: set()}"
      ]
     },
     "execution_count": 17,
     "metadata": {},
     "output_type": "execute_result"
    }
   ],
   "source": [
    "graph"
   ]
  },
  {
   "cell_type": "code",
   "execution_count": 18,
   "metadata": {},
   "outputs": [],
   "source": [
    "from collections import deque\n",
    "start_vertex = 0\n",
    "distances = [None] * N\n",
    "distances[start_vertex] = 0\n",
    "queue = deque([start_vertex])\n",
    "\n",
    "while queue:\n",
    "    cur_v = queue.popleft()\n",
    "    for neigh_v in graph[cur_v]:\n",
    "        if distances[neigh_v] is None:\n",
    "            distances[neigh_v] = distances[cur_v] + 1\n",
    "            queue.append(neigh_v)"
   ]
  },
  {
   "cell_type": "code",
   "execution_count": 19,
   "metadata": {},
   "outputs": [
    {
     "data": {
      "text/plain": [
       "[0, 1, 3, 2, 2, 4, 2, 2, 5, None, 1, 1, 1, 3, None]"
      ]
     },
     "execution_count": 19,
     "metadata": {},
     "output_type": "execute_result"
    }
   ],
   "source": [
    "distances"
   ]
  },
  {
   "cell_type": "markdown",
   "metadata": {},
   "source": [
    "### Восстановление кратчайшего пути"
   ]
  },
  {
   "cell_type": "code",
   "execution_count": 22,
   "metadata": {},
   "outputs": [
    {
     "name": "stdout",
     "output_type": "stream",
     "text": [
      "[0, 10, 6, 2]\n"
     ]
    }
   ],
   "source": [
    "start_vertex = 0\n",
    "end_vertex = 2\n",
    "\n",
    "parents = [None] * N\n",
    "distances = [None] * N\n",
    "distances[start_vertex] = 0\n",
    "queue = deque([start_vertex])\n",
    "\n",
    "while queue:\n",
    "    u = queue.popleft()\n",
    "    for v in graph[u]:\n",
    "        if distances[v] is None:\n",
    "            distances[v] = distances[u] + 1\n",
    "            parents[v] = u\n",
    "            queue.append(v)\n",
    "\n",
    "path = [end_vertex]\n",
    "parent = parents[end_vertex]\n",
    "while not parent is None:\n",
    "    path.append(parent)\n",
    "    parent = parents[parent]\n",
    "print(path[::-1])"
   ]
  },
  {
   "cell_type": "markdown",
   "metadata": {},
   "source": [
    "### Конь"
   ]
  },
  {
   "cell_type": "code",
   "execution_count": 45,
   "metadata": {},
   "outputs": [],
   "source": [
    "# Создание Графа\n",
    "letters = 'abcdefgh'\n",
    "numbers = '12345678'\n",
    "\n",
    "graph = dict()\n",
    "\n",
    "for l in letters:\n",
    "    for n in numbers:\n",
    "        graph[l+n] = set()    "
   ]
  },
  {
   "cell_type": "code",
   "execution_count": 46,
   "metadata": {},
   "outputs": [
    {
     "data": {
      "text/plain": [
       "{'a1': {'b3', 'c2'},\n",
       " 'a2': {'b4', 'c1', 'c3'},\n",
       " 'a3': {'b1', 'b5', 'c2', 'c4'},\n",
       " 'a4': {'b2', 'b6', 'c3', 'c5'},\n",
       " 'a5': {'b3', 'b7', 'c4', 'c6'},\n",
       " 'a6': {'b4', 'b8', 'c5', 'c7'},\n",
       " 'a7': {'b5', 'c6', 'c8'},\n",
       " 'a8': {'b6', 'c7'},\n",
       " 'b1': {'a3', 'c3', 'd2'},\n",
       " 'b2': {'a4', 'c4', 'd1', 'd3'},\n",
       " 'b3': {'a1', 'a5', 'c1', 'c5', 'd2', 'd4'},\n",
       " 'b4': {'a2', 'a6', 'c2', 'c6', 'd3', 'd5'},\n",
       " 'b5': {'a3', 'a7', 'c3', 'c7', 'd4', 'd6'},\n",
       " 'b6': {'a4', 'a8', 'c4', 'c8', 'd5', 'd7'},\n",
       " 'b7': {'a5', 'c5', 'd6', 'd8'},\n",
       " 'b8': {'a6', 'c6', 'd7'},\n",
       " 'c1': {'a2', 'b3', 'd3', 'e2'},\n",
       " 'c2': {'a1', 'a3', 'b4', 'd4', 'e1', 'e3'},\n",
       " 'c3': {'a2', 'a4', 'b1', 'b5', 'd1', 'd5', 'e2', 'e4'},\n",
       " 'c4': {'a3', 'a5', 'b2', 'b6', 'd2', 'd6', 'e3', 'e5'},\n",
       " 'c5': {'a4', 'a6', 'b3', 'b7', 'd3', 'd7', 'e4', 'e6'},\n",
       " 'c6': {'a5', 'a7', 'b4', 'b8', 'd4', 'd8', 'e5', 'e7'},\n",
       " 'c7': {'a6', 'a8', 'b5', 'd5', 'e6', 'e8'},\n",
       " 'c8': {'a7', 'b6', 'd6', 'e7'},\n",
       " 'd1': {'b2', 'c3', 'e3', 'f2'},\n",
       " 'd2': {'b1', 'b3', 'c4', 'e4', 'f1', 'f3'},\n",
       " 'd3': {'b2', 'b4', 'c1', 'c5', 'e1', 'e5', 'f2', 'f4'},\n",
       " 'd4': {'b3', 'b5', 'c2', 'c6', 'e2', 'e6', 'f3', 'f5'},\n",
       " 'd5': {'b4', 'b6', 'c3', 'c7', 'e3', 'e7', 'f4', 'f6'},\n",
       " 'd6': {'b5', 'b7', 'c4', 'c8', 'e4', 'e8', 'f5', 'f7'},\n",
       " 'd7': {'b6', 'b8', 'c5', 'e5', 'f6', 'f8'},\n",
       " 'd8': {'b7', 'c6', 'e6', 'f7'},\n",
       " 'e1': {'c2', 'd3', 'f3', 'g2'},\n",
       " 'e2': {'c1', 'c3', 'd4', 'f4', 'g1', 'g3'},\n",
       " 'e3': {'c2', 'c4', 'd1', 'd5', 'f1', 'f5', 'g2', 'g4'},\n",
       " 'e4': {'c3', 'c5', 'd2', 'd6', 'f2', 'f6', 'g3', 'g5'},\n",
       " 'e5': {'c4', 'c6', 'd3', 'd7', 'f3', 'f7', 'g4', 'g6'},\n",
       " 'e6': {'c5', 'c7', 'd4', 'd8', 'f4', 'f8', 'g5', 'g7'},\n",
       " 'e7': {'c6', 'c8', 'd5', 'f5', 'g6', 'g8'},\n",
       " 'e8': {'c7', 'd6', 'f6', 'g7'},\n",
       " 'f1': {'d2', 'e3', 'g3', 'h2'},\n",
       " 'f2': {'d1', 'd3', 'e4', 'g4', 'h1', 'h3'},\n",
       " 'f3': {'d2', 'd4', 'e1', 'e5', 'g1', 'g5', 'h2', 'h4'},\n",
       " 'f4': {'d3', 'd5', 'e2', 'e6', 'g2', 'g6', 'h3', 'h5'},\n",
       " 'f5': {'d4', 'd6', 'e3', 'e7', 'g3', 'g7', 'h4', 'h6'},\n",
       " 'f6': {'d5', 'd7', 'e4', 'e8', 'g4', 'g8', 'h5', 'h7'},\n",
       " 'f7': {'d6', 'd8', 'e5', 'g5', 'h6', 'h8'},\n",
       " 'f8': {'d7', 'e6', 'g6', 'h7'},\n",
       " 'g1': {'e2', 'f3', 'h3'},\n",
       " 'g2': {'e1', 'e3', 'f4', 'h4'},\n",
       " 'g3': {'e2', 'e4', 'f1', 'f5', 'h1', 'h5'},\n",
       " 'g4': {'e3', 'e5', 'f2', 'f6', 'h2', 'h6'},\n",
       " 'g5': {'e4', 'e6', 'f3', 'f7', 'h3', 'h7'},\n",
       " 'g6': {'e5', 'e7', 'f4', 'f8', 'h4', 'h8'},\n",
       " 'g7': {'e6', 'e8', 'f5', 'h5'},\n",
       " 'g8': {'e7', 'f6', 'h6'},\n",
       " 'h1': {'f2', 'g3'},\n",
       " 'h2': {'f1', 'f3', 'g4'},\n",
       " 'h3': {'f2', 'f4', 'g1', 'g5'},\n",
       " 'h4': {'f3', 'f5', 'g2', 'g6'},\n",
       " 'h5': {'f4', 'f6', 'g3', 'g7'},\n",
       " 'h6': {'f5', 'f7', 'g4', 'g8'},\n",
       " 'h7': {'f6', 'f8', 'g5'},\n",
       " 'h8': {'f7', 'g6'}}"
      ]
     },
     "execution_count": 46,
     "metadata": {},
     "output_type": "execute_result"
    }
   ],
   "source": [
    "def add_edge(v1, v2):\n",
    "    graph[v1].add(v2)\n",
    "    graph[v2].add(v1)\n",
    "    \n",
    "for i in range(8):\n",
    "    for j in range(8):\n",
    "        v1 = letters[i] + numbers[j]\n",
    "        if 0 <= i + 2 < 8 and 0 <= j + 1 < 8:\n",
    "            v2 = letters[i+2] + numbers[j+1]\n",
    "            add_edge(v1, v2)\n",
    "\n",
    "        if 0 <= i - 2 < 8 and 0 <= j + 1 < 8:\n",
    "            v2 = letters[i-2] + numbers[j+1]\n",
    "            add_edge(v1, v2)\n",
    "        \n",
    "        if 0 <= i + 1 < 8 and 0 <= j + 2 < 8:\n",
    "            v2 = letters[i+1] + numbers[j+2]\n",
    "            add_edge(v1, v2)\n",
    "\n",
    "        if 0 <= i - 1 < 8 and 0 <= j + 2 < 8:\n",
    "            v2 = letters[i-1] + numbers[j+2]\n",
    "            add_edge(v1, v2)\n",
    "graph"
   ]
  },
  {
   "cell_type": "code",
   "execution_count": 47,
   "metadata": {},
   "outputs": [
    {
     "data": {
      "text/plain": [
       "['d4', 'f5', 'h6', 'f7']"
      ]
     },
     "execution_count": 47,
     "metadata": {},
     "output_type": "execute_result"
    }
   ],
   "source": [
    "from collections import deque\n",
    "start_vertex = 'd4'\n",
    "end_vertex = 'f7'\n",
    "\n",
    "parents = {v: None for v in graph}\n",
    "distances = {v: None for v in graph}\n",
    "\n",
    "distances[start_vertex] = 0\n",
    "queue = deque([start_vertex])\n",
    "\n",
    "while queue:\n",
    "    cur_v = queue.popleft()\n",
    "    for neigh_v in graph[cur_v]:\n",
    "        if distances[neigh_v] is None:\n",
    "            distances[neigh_v] = distances[cur_v] + 1\n",
    "            parents[neigh_v] = cur_v\n",
    "            queue.append(neigh_v)\n",
    "\n",
    "path = [end_vertex]\n",
    "parent = parents[end_vertex]\n",
    "while not parent is None:\n",
    "    path.append(parent)\n",
    "    parent = parents[parent]   \n",
    "\n",
    "path[::-1]"
   ]
  },
  {
   "cell_type": "code",
   "execution_count": 33,
   "metadata": {},
   "outputs": [],
   "source": []
  },
  {
   "cell_type": "code",
   "execution_count": null,
   "metadata": {},
   "outputs": [],
   "source": []
  }
 ],
 "metadata": {
  "kernelspec": {
   "display_name": "Python 3",
   "language": "python",
   "name": "python3"
  },
  "language_info": {
   "codemirror_mode": {
    "name": "ipython",
    "version": 3
   },
   "file_extension": ".py",
   "mimetype": "text/x-python",
   "name": "python",
   "nbconvert_exporter": "python",
   "pygments_lexer": "ipython3",
   "version": "3.7.4"
  }
 },
 "nbformat": 4,
 "nbformat_minor": 4
}
