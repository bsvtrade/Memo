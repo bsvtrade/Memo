{
 "cells": [
  {
   "cell_type": "code",
   "execution_count": null,
   "metadata": {},
   "outputs": [],
   "source": [
    "\"\"\"\n",
    "Видео подробного разбора\n",
    "https://www.youtube.com/watch?v=7g-WEBj3igk\n",
    "\n",
    "Собственный суффикс - суффикс строки, но не равный самой строке\n",
    "\n",
    "Префикс функция для i-го символа образа возвращает значение,\n",
    "равное МАКСИМАЛЬНОЙ длине совпадающих префикса и суффикса подстроки в образе,\n",
    "которая заканчивается i-м символом.\n",
    "\n",
    "s  = a b c a b c d\n",
    "Pi = 0 0 0 1 2 3 0\n",
    "\n",
    "s  = a b c a b c a\n",
    "Pi = 0 0 0 1 2 3 4\n",
    "\n",
    "\"\"\""
   ]
  },
  {
   "cell_type": "code",
   "execution_count": 2,
   "metadata": {},
   "outputs": [],
   "source": [
    "def prefix(s):\n",
    "    \"\"\" Функция расчета префикс-функции. \"\"\"\n",
    "    Pi = [0]*len(s)\n",
    "    \n",
    "    for i in range(1, len(s)):\n",
    "        p = Pi[i-1]\n",
    "        while p > 0 and s[p] != s[i]:\n",
    "            p = Pi[p-1]\n",
    "        if s[p] == s[i]:\n",
    "            p += 1\n",
    "        Pi[i] = p\n",
    "    return Pi\n",
    "\n",
    "def kmp(sub, s):\n",
    "    \"\"\" Функция поиска подстроки в строке. Алгоритм Кнута-Морриса-Пратта. \"\"\"\n",
    "    index = -1\n",
    "    Pi = prefix(sub)\n",
    "    p = 0\n",
    "    for i in range(len(s)):\n",
    "        while p > 0 and sub[p] != s[i]:\n",
    "            p = Pi[k-1]\n",
    "        if sub[p] == s[i]:\n",
    "            p += 1\n",
    "        if p == len(sub):\n",
    "            index = i - len(sub) + 1\n",
    "            break\n",
    "    return index        "
   ]
  },
  {
   "cell_type": "code",
   "execution_count": 11,
   "metadata": {},
   "outputs": [
    {
     "name": "stdout",
     "output_type": "stream",
     "text": [
      "[0, 0, 1, 0, 1, 2, 3, 0, 1, 2, 3, 4, 5, 6, 7, 0, 1, 2, 3, 4, 5, 6, 7, 8, 9, 10, 11, 12, 13, 14, 15, 8, 9, 10, 11, 12, 13, 0, 1, 0, 1, 2, 3]\n",
      "7\n"
     ]
    }
   ],
   "source": [
    "s = 'abacabadabacabafabacabadabacabadabacadafaba'\n",
    "sub = 'dabac'\n",
    "print(prefix(s))\n",
    "print(kmp(sub, s))"
   ]
  },
  {
   "cell_type": "code",
   "execution_count": 12,
   "metadata": {},
   "outputs": [
    {
     "name": "stdout",
     "output_type": "stream",
     "text": [
      "[0, 0, 0, 0, 1, 2, 0, 0, 1, 2, 0, 0, 1, 2, 3, 4, 5, 6, 0, 0, 1, 2, 0, 0, 1, 2, 0, 0, 1, 2, 3, 4, 5, 6, 0, 0, 1, 2, 3, 4, 5, 6, 0, 0, 0, 0, 0, 0, 1, 2]\n"
     ]
    }
   ],
   "source": [
    "# Можно отделить строку спец символом и искать как Пи функцию\n",
    "# В примере - там где 6, там найден конец искомой строки\n",
    "s = 'badaba#abacabadabacabafabacabadabacabadabacadafaba'\n",
    "print(prefix(s))"
   ]
  },
  {
   "cell_type": "code",
   "execution_count": null,
   "metadata": {},
   "outputs": [],
   "source": []
  }
 ],
 "metadata": {
  "kernelspec": {
   "display_name": "Python 3",
   "language": "python",
   "name": "python3"
  },
  "language_info": {
   "codemirror_mode": {
    "name": "ipython",
    "version": 3
   },
   "file_extension": ".py",
   "mimetype": "text/x-python",
   "name": "python",
   "nbconvert_exporter": "python",
   "pygments_lexer": "ipython3",
   "version": "3.7.4"
  }
 },
 "nbformat": 4,
 "nbformat_minor": 4
}
