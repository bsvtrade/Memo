{
 "cells": [
  {
   "cell_type": "markdown",
   "metadata": {},
   "source": [
    "### Обход контактов VK.com"
   ]
  },
  {
   "cell_type": "code",
   "execution_count": null,
   "metadata": {},
   "outputs": [],
   "source": [
    "import requests # делает запросы\n",
    "import time # делает задержки между запросами\n",
    "from tqdm import tqdm # progress bar\n",
    "\n",
    "HOST = 'https://api.vk.com/method/'\n",
    "VERSION = '5.74'\n",
    "access_token = 'xxxxxxxxxxxxxxxxx'\n",
    "\n",
    "r = requests.get(HOST + 'users.get', param={'user_ids': '1699912,1',\n",
    "                                               'access_token': access_token,\n",
    "                                               'v': VERSION})\n",
    "r.json()['response'][0]"
   ]
  },
  {
   "cell_type": "code",
   "execution_count": null,
   "metadata": {},
   "outputs": [],
   "source": [
    "id_start = 111900610\n",
    "id_end = 1699912"
   ]
  },
  {
   "cell_type": "code",
   "execution_count": null,
   "metadata": {},
   "outputs": [],
   "source": [
    "def get_friends_list(id_user):\n",
    "    r = requests.get(HOST + 'friends.get', param={'user_id': id_user,\n",
    "                                               'access_token': access_token,\n",
    "                                               'v': VERSION})\n",
    "    if 'response' in r.json():\n",
    "        return r.json()['response']['items']\n",
    "    return []\n"
   ]
  },
  {
   "cell_type": "code",
   "execution_count": null,
   "metadata": {},
   "outputs": [],
   "source": [
    "from collections import deque\n",
    "queue = deque(get_friends_list(id_start))\n",
    "\n",
    "distances = {v: 1 for v in queue}\n",
    "parents = {v: 111900610 for v in queue}\n",
    "\n",
    "while id_end not in distances:\n",
    "    cur_user = queue.popleft()\n",
    "    new_users = get_friends_list(cur_user)\n",
    "    time.sleep(0.2)\n",
    "    for u in tqdm(new_users):\n",
    "        if u not in distances:\n",
    "            queue.append(u)\n",
    "            distances[u] = distances[cur_user] + 1\n",
    "            parents[u] = cur_user"
   ]
  },
  {
   "cell_type": "code",
   "execution_count": null,
   "metadata": {},
   "outputs": [],
   "source": [
    "path = [id_end]\n",
    "parent = parents[id_end]\n",
    "parents[id_start] = None\n",
    "while not parent is None:\n",
    "    path.append(parent)\n",
    "    parent = parents[parent]   \n",
    "\n",
    "path[::-1]"
   ]
  }
 ],
 "metadata": {
  "kernelspec": {
   "display_name": "Python 3",
   "language": "python",
   "name": "python3"
  },
  "language_info": {
   "codemirror_mode": {
    "name": "ipython",
    "version": 3
   },
   "file_extension": ".py",
   "mimetype": "text/x-python",
   "name": "python",
   "nbconvert_exporter": "python",
   "pygments_lexer": "ipython3",
   "version": "3.7.4"
  }
 },
 "nbformat": 4,
 "nbformat_minor": 4
}
