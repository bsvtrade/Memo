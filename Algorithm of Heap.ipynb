{
 "cells": [
  {
   "cell_type": "markdown",
   "metadata": {},
   "source": [
    "### Heap\n",
    "    Heap - is a tree. In this case each parent has a two child only.\n",
    "    So, it is a binary tree.\n",
    "    Each parent element is less then it child.\n",
    "    If was added element greater than parent, they should be swapped.\n",
    "    Max depth between leaves is 1.\n",
    "    Leaves fills with data from left to right.\n",
    "    Access to each child:\n",
    "        i = 2 * i + 1\n",
    "        i = 2 * i + 2\n",
    "    Access to parent from child:\n",
    "        i = (i - 1) // 2\n",
    "    \n",
    "    sift_up   - O(log N)\n",
    "    sift_down - O(log N)\n",
    "    insert    - O(log N)\n",
    "    min       - O(1)"
   ]
  },
  {
   "cell_type": "code",
   "execution_count": 1,
   "metadata": {},
   "outputs": [],
   "source": [
    "class Heap:\n",
    "    def __init__(self):\n",
    "        self.values = []\n",
    "        self.size = 0\n",
    "    \n",
    "    def clear(self):\n",
    "        self.values = []\n",
    "        self.size = 0\n",
    "        \n",
    "    def insert(self, x):\n",
    "        self.values.append(x)\n",
    "        self.size += 1\n",
    "        self.sift_up(self.size - 1)\n",
    "    \n",
    "    def sift_up(self, i):\n",
    "        while i != 0 and self.values[i] < self.values[(i - 1) // 2]:\n",
    "            self.values[i], self.values[(i - 1) // 2] = self.values[(i - 1) // 2], self.values[i]\n",
    "            i = (i - 1) // 2\n",
    "            \n",
    "    def extract_min(self):\n",
    "        if self.size == 0:\n",
    "            return None\n",
    "        \n",
    "        tmp = self.values[0]\n",
    "        self.values[0] = self.values[-1]\n",
    "        \n",
    "        if not self.size:\n",
    "            return None\n",
    "        \n",
    "        self.values.pop()\n",
    "        self.size -= 1\n",
    "        self.sift_down(0)\n",
    "        return tmp\n",
    "    \n",
    "    def sift_down(self, i):\n",
    "        while 2*i+1 < self.size:\n",
    "            j = i\n",
    "            if self.values[2*i+1] < self.values[i]:\n",
    "                j = 2 * i + 1\n",
    "            if 2*i+2 < self.size and self.values[2*i+2] < self.values[j]:\n",
    "                j = 2 * i + 2\n",
    "            if i == j:\n",
    "                break\n",
    "            self.values[i], self.values[j] = self.values[j], self.values[i]\n"
   ]
  },
  {
   "cell_type": "code",
   "execution_count": 196,
   "metadata": {},
   "outputs": [],
   "source": [
    "a = Heap()"
   ]
  },
  {
   "cell_type": "code",
   "execution_count": 197,
   "metadata": {},
   "outputs": [
    {
     "name": "stdout",
     "output_type": "stream",
     "text": [
      "Heap has the next structure:\n",
      "3 4 15 46 21 79 61\n",
      "\n",
      "It will a sorted array, while extracting first elements from heap: \n",
      "3 4 15 21 46 61 79 "
     ]
    }
   ],
   "source": [
    "a.clear()\n",
    "unsort_list = [46, 15, 3, 4, 21, 79, 61]\n",
    "\n",
    "for x in unsort_list:\n",
    "    a.insert(x)\n",
    "\n",
    "print('Heap has the next structure:')\n",
    "print(*a.values)    \n",
    "\n",
    "print('\\nIt will a sorted array, while extracting first elements from heap: ')\n",
    "x = a.extract_min()\n",
    "while x is not None:\n",
    "    print(x, end=' ')\n",
    "    x = a.extract_min()\n",
    "    "
   ]
  },
  {
   "cell_type": "code",
   "execution_count": null,
   "metadata": {},
   "outputs": [],
   "source": []
  }
 ],
 "metadata": {
  "kernelspec": {
   "display_name": "Python 3",
   "language": "python",
   "name": "python3"
  },
  "language_info": {
   "codemirror_mode": {
    "name": "ipython",
    "version": 3
   },
   "file_extension": ".py",
   "mimetype": "text/x-python",
   "name": "python",
   "nbconvert_exporter": "python",
   "pygments_lexer": "ipython3",
   "version": "3.7.4"
  }
 },
 "nbformat": 4,
 "nbformat_minor": 4
}
