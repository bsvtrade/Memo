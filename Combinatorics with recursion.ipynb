{
 "cells": [
  {
   "cell_type": "code",
   "execution_count": 16,
   "metadata": {},
   "outputs": [],
   "source": [
    "# Generate binar combinatoric array\n",
    "def gen_bin(M, prefix=''):\n",
    "    if M == 0:\n",
    "        print(prefix)\n",
    "        return\n",
    "    gen_bin(M-1, prefix+'0')\n",
    "    gen_bin(M-1, prefix+'1')"
   ]
  },
  {
   "cell_type": "code",
   "execution_count": null,
   "metadata": {},
   "outputs": [],
   "source": []
  },
  {
   "cell_type": "code",
   "execution_count": 18,
   "metadata": {},
   "outputs": [
    {
     "name": "stdout",
     "output_type": "stream",
     "text": [
      "000\n",
      "001\n",
      "010\n",
      "011\n",
      "100\n",
      "101\n",
      "110\n",
      "111\n"
     ]
    }
   ],
   "source": [
    "gen_bin(3, '')"
   ]
  },
  {
   "cell_type": "code",
   "execution_count": 46,
   "metadata": {},
   "outputs": [],
   "source": [
    "# Generate number combinatoric array\n",
    "def generate_number(N:int, M:int, prefix=None):\n",
    "    \"\"\" Генерирует все числа (с лидирующими незначащими нулями)\n",
    "        в N-ричной системе счисления (N<=10)\n",
    "        длины M\n",
    "    \"\"\"\n",
    "    prefix = prefix or []\n",
    "    if M == 0:\n",
    "        print(prefix)\n",
    "        # print(*prefix, sep=', ')\n",
    "        return\n",
    "    for digit in range(N):\n",
    "        prefix.append(digit)\n",
    "        generate_number(N, M-1, prefix)\n",
    "        prefix.pop()\n"
   ]
  },
  {
   "cell_type": "code",
   "execution_count": 63,
   "metadata": {},
   "outputs": [
    {
     "name": "stdout",
     "output_type": "stream",
     "text": [
      "[0, 0, 0]\n",
      "[0, 0, 1]\n",
      "[0, 0, 2]\n",
      "[0, 1, 0]\n",
      "[0, 1, 1]\n",
      "[0, 1, 2]\n",
      "[0, 2, 0]\n",
      "[0, 2, 1]\n",
      "[0, 2, 2]\n",
      "[1, 0, 0]\n",
      "[1, 0, 1]\n",
      "[1, 0, 2]\n",
      "[1, 1, 0]\n",
      "[1, 1, 1]\n",
      "[1, 1, 2]\n",
      "[1, 2, 0]\n",
      "[1, 2, 1]\n",
      "[1, 2, 2]\n",
      "[2, 0, 0]\n",
      "[2, 0, 1]\n",
      "[2, 0, 2]\n",
      "[2, 1, 0]\n",
      "[2, 1, 1]\n",
      "[2, 1, 2]\n",
      "[2, 2, 0]\n",
      "[2, 2, 1]\n",
      "[2, 2, 2]\n"
     ]
    }
   ],
   "source": [
    "generate_number(3, 3)"
   ]
  },
  {
   "cell_type": "code",
   "execution_count": 80,
   "metadata": {},
   "outputs": [],
   "source": [
    "def find(x, A):\n",
    "    \"\"\" Ищет x в A и возвращает True, если такой есть\n",
    "        False, если такого нет\n",
    "    \"\"\"\n",
    "    if x in A:\n",
    "        return True\n",
    "    return False\n",
    "    \n",
    "def generate_permutation(N:int, M:int=-1, prefix=None):\n",
    "    \"\"\" Генерация всех перестановок N числе в M позициях,\n",
    "        с префиксом prefix\n",
    "    \"\"\"\n",
    "    M = N if M == -1 else M # по умолчанию N чисел в N позициях\n",
    "    prefix = prefix or []\n",
    "    \n",
    "    if M == 0:\n",
    "        print(prefix)\n",
    "        return\n",
    "    for number in range(1, N+1):\n",
    "        if find(number, prefix):\n",
    "            continue\n",
    "        prefix.append(number)\n",
    "        generate_permutation(N, M-1, prefix)\n",
    "        prefix.pop()\n",
    "    "
   ]
  },
  {
   "cell_type": "code",
   "execution_count": 82,
   "metadata": {},
   "outputs": [
    {
     "name": "stdout",
     "output_type": "stream",
     "text": [
      "[1, 2, 3, 4]\n",
      "[1, 2, 4, 3]\n",
      "[1, 3, 2, 4]\n",
      "[1, 3, 4, 2]\n",
      "[1, 4, 2, 3]\n",
      "[1, 4, 3, 2]\n",
      "[2, 1, 3, 4]\n",
      "[2, 1, 4, 3]\n",
      "[2, 3, 1, 4]\n",
      "[2, 3, 4, 1]\n",
      "[2, 4, 1, 3]\n",
      "[2, 4, 3, 1]\n",
      "[3, 1, 2, 4]\n",
      "[3, 1, 4, 2]\n",
      "[3, 2, 1, 4]\n",
      "[3, 2, 4, 1]\n",
      "[3, 4, 1, 2]\n",
      "[3, 4, 2, 1]\n",
      "[4, 1, 2, 3]\n",
      "[4, 1, 3, 2]\n",
      "[4, 2, 1, 3]\n",
      "[4, 2, 3, 1]\n",
      "[4, 3, 1, 2]\n",
      "[4, 3, 2, 1]\n"
     ]
    }
   ],
   "source": [
    "generate_permutation(4,4)"
   ]
  },
  {
   "cell_type": "code",
   "execution_count": null,
   "metadata": {},
   "outputs": [],
   "source": []
  },
  {
   "cell_type": "code",
   "execution_count": null,
   "metadata": {},
   "outputs": [],
   "source": []
  }
 ],
 "metadata": {
  "kernelspec": {
   "display_name": "Python 3",
   "language": "python",
   "name": "python3"
  },
  "language_info": {
   "codemirror_mode": {
    "name": "ipython",
    "version": 3
   },
   "file_extension": ".py",
   "mimetype": "text/x-python",
   "name": "python",
   "nbconvert_exporter": "python",
   "pygments_lexer": "ipython3",
   "version": "3.7.4"
  }
 },
 "nbformat": 4,
 "nbformat_minor": 4
}
